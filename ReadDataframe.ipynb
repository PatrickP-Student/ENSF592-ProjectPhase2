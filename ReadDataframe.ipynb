{
 "metadata": {
  "language_info": {
   "codemirror_mode": {
    "name": "ipython",
    "version": 3
   },
   "file_extension": ".py",
   "mimetype": "text/x-python",
   "name": "python",
   "nbconvert_exporter": "python",
   "pygments_lexer": "ipython3",
   "version": 3
  },
  "orig_nbformat": 2,
  "kernelspec": {
   "name": "python_defaultSpec_1596758625645",
   "display_name": "Python 3.8.3 64-bit"
  }
 },
 "nbformat": 4,
 "nbformat_minor": 2,
 "cells": [
  {
   "cell_type": "markdown",
   "metadata": {},
   "source": [
    "Author: Patrick Pickard\n",
    "Date: August 6, 2020\n",
    "Description:"
   ]
  },
  {
   "cell_type": "code",
   "execution_count": 135,
   "metadata": {},
   "outputs": [],
   "source": [
    "import pandas as pd\n",
    "import numpy as np"
   ]
  },
  {
   "cell_type": "code",
   "execution_count": 154,
   "metadata": {
    "tags": []
   },
   "outputs": [
    {
     "output_type": "execute_result",
     "data": {
      "text/plain": "      SPEED           STREET_NAME   latitude   longitude\n319     110     TRANS CANADA HI W  51.088641 -114.259021\n153     110     TRANS CANADA HI W  51.088552 -114.292310\n874     110   DEERFOOT TR NE RAMP  51.169156 -114.000749\n639     110         MACLEOD TR SE  50.848539 -114.023095\n590     110        DEERFOOT TR NE  51.136862 -114.039942\n...     ...                   ...        ...         ...\n760      30  CROWCHILD TR SW RAMP  51.002836 -114.118039\n908      30       CROWCHILD TR SW  50.990472 -114.118005\n997      30    HARVEST HILLS BV N  51.172578 -114.068950\n397      30   GLENMORE TR SW RAMP  51.000458 -114.116900\n1211     20     BARLOW TR SE RAMP  51.045905 -114.007267\n\n[1452 rows x 4 columns]",
      "text/html": "<div>\n<style scoped>\n    .dataframe tbody tr th:only-of-type {\n        vertical-align: middle;\n    }\n\n    .dataframe tbody tr th {\n        vertical-align: top;\n    }\n\n    .dataframe thead th {\n        text-align: right;\n    }\n</style>\n<table border=\"1\" class=\"dataframe\">\n  <thead>\n    <tr style=\"text-align: right;\">\n      <th></th>\n      <th>SPEED</th>\n      <th>STREET_NAME</th>\n      <th>latitude</th>\n      <th>longitude</th>\n    </tr>\n  </thead>\n  <tbody>\n    <tr>\n      <th>319</th>\n      <td>110</td>\n      <td>TRANS CANADA HI W</td>\n      <td>51.088641</td>\n      <td>-114.259021</td>\n    </tr>\n    <tr>\n      <th>153</th>\n      <td>110</td>\n      <td>TRANS CANADA HI W</td>\n      <td>51.088552</td>\n      <td>-114.292310</td>\n    </tr>\n    <tr>\n      <th>874</th>\n      <td>110</td>\n      <td>DEERFOOT TR NE RAMP</td>\n      <td>51.169156</td>\n      <td>-114.000749</td>\n    </tr>\n    <tr>\n      <th>639</th>\n      <td>110</td>\n      <td>MACLEOD TR SE</td>\n      <td>50.848539</td>\n      <td>-114.023095</td>\n    </tr>\n    <tr>\n      <th>590</th>\n      <td>110</td>\n      <td>DEERFOOT TR NE</td>\n      <td>51.136862</td>\n      <td>-114.039942</td>\n    </tr>\n    <tr>\n      <th>...</th>\n      <td>...</td>\n      <td>...</td>\n      <td>...</td>\n      <td>...</td>\n    </tr>\n    <tr>\n      <th>760</th>\n      <td>30</td>\n      <td>CROWCHILD TR SW RAMP</td>\n      <td>51.002836</td>\n      <td>-114.118039</td>\n    </tr>\n    <tr>\n      <th>908</th>\n      <td>30</td>\n      <td>CROWCHILD TR SW</td>\n      <td>50.990472</td>\n      <td>-114.118005</td>\n    </tr>\n    <tr>\n      <th>997</th>\n      <td>30</td>\n      <td>HARVEST HILLS BV N</td>\n      <td>51.172578</td>\n      <td>-114.068950</td>\n    </tr>\n    <tr>\n      <th>397</th>\n      <td>30</td>\n      <td>GLENMORE TR SW RAMP</td>\n      <td>51.000458</td>\n      <td>-114.116900</td>\n    </tr>\n    <tr>\n      <th>1211</th>\n      <td>20</td>\n      <td>BARLOW TR SE RAMP</td>\n      <td>51.045905</td>\n      <td>-114.007267</td>\n    </tr>\n  </tbody>\n</table>\n<p>1452 rows × 4 columns</p>\n</div>"
     },
     "metadata": {},
     "execution_count": 154
    }
   ],
   "source": [
    "speed_limit_df = pd.read_csv(\"Speed_Limits.csv\")\n",
    "\n",
    "# cleaning the speed_limit data\n",
    "speed_limit_df['multiline'] = speed_limit_df['multiline'].str.replace(r'[MULTILINESTRING]','').str.replace(r'\\(','').str.replace(r'\\)','').str.replace(r'\\)','').str.replace(\"−\", \"-\").str.strip()\n",
    "speed_limit_df.dropna(subset = [\"SPEED\"], inplace=True)\n",
    "\n",
    "# taking the multilinestring coordinates and creating a latitude and longitude column in the data frame. We will assume that the first point is an accurate representation of the location for the line segments\n",
    "latitude = []\n",
    "longitude = []\n",
    "for temp in speed_limit_df.multiline:\n",
    "    temp = temp.split(',')\n",
    "    for i in temp:\n",
    "        i = i.split()\n",
    "        latitude.append(float(i[1]))\n",
    "        longitude.append(float(i[0]))\n",
    "        break\n",
    "    \n",
    "speed_limit_df['latitude'] = latitude\n",
    "speed_limit_df['longitude'] = longitude\n",
    "speed_limit_df = speed_limit_df.drop(['BOUND','CREATED_DT','DISTANCE','multiline'], axis=1)\n",
    "speed_limit_df = speed_limit_df.sort_values('SPEED',ascending=False)\n",
    "speed_limit_df"
   ]
  },
  {
   "cell_type": "code",
   "execution_count": 155,
   "metadata": {},
   "outputs": [
    {
     "output_type": "execute_result",
     "data": {
      "text/plain": "       SECNAME  VOLUME   latitude   longitude\n961  DEERFOOT7  185000  51.047955 -114.017118\n962  DEERFOOT8  179000  51.037096 -114.004674\n959  DEERFOOT6  177000  51.067447 -114.026747\n956  DEERFOOT3  174000  51.110524 -114.046882\n957  DEERFOOT4  171000  51.096076 -114.040608\n..         ...     ...        ...         ...\n671    8AVS2_A       0  51.045297 -114.053192\n283   210AVSE1       0  50.863099 -114.070895\n594   68STSE13       0  50.989498 -113.935167\n124   144AVNW7       0  51.183317 -114.094587\n284   210AVSE2       0  50.863099 -114.070895\n\n[1769 rows x 4 columns]",
      "text/html": "<div>\n<style scoped>\n    .dataframe tbody tr th:only-of-type {\n        vertical-align: middle;\n    }\n\n    .dataframe tbody tr th {\n        vertical-align: top;\n    }\n\n    .dataframe thead th {\n        text-align: right;\n    }\n</style>\n<table border=\"1\" class=\"dataframe\">\n  <thead>\n    <tr style=\"text-align: right;\">\n      <th></th>\n      <th>SECNAME</th>\n      <th>VOLUME</th>\n      <th>latitude</th>\n      <th>longitude</th>\n    </tr>\n  </thead>\n  <tbody>\n    <tr>\n      <th>961</th>\n      <td>DEERFOOT7</td>\n      <td>185000</td>\n      <td>51.047955</td>\n      <td>-114.017118</td>\n    </tr>\n    <tr>\n      <th>962</th>\n      <td>DEERFOOT8</td>\n      <td>179000</td>\n      <td>51.037096</td>\n      <td>-114.004674</td>\n    </tr>\n    <tr>\n      <th>959</th>\n      <td>DEERFOOT6</td>\n      <td>177000</td>\n      <td>51.067447</td>\n      <td>-114.026747</td>\n    </tr>\n    <tr>\n      <th>956</th>\n      <td>DEERFOOT3</td>\n      <td>174000</td>\n      <td>51.110524</td>\n      <td>-114.046882</td>\n    </tr>\n    <tr>\n      <th>957</th>\n      <td>DEERFOOT4</td>\n      <td>171000</td>\n      <td>51.096076</td>\n      <td>-114.040608</td>\n    </tr>\n    <tr>\n      <th>...</th>\n      <td>...</td>\n      <td>...</td>\n      <td>...</td>\n      <td>...</td>\n    </tr>\n    <tr>\n      <th>671</th>\n      <td>8AVS2_A</td>\n      <td>0</td>\n      <td>51.045297</td>\n      <td>-114.053192</td>\n    </tr>\n    <tr>\n      <th>283</th>\n      <td>210AVSE1</td>\n      <td>0</td>\n      <td>50.863099</td>\n      <td>-114.070895</td>\n    </tr>\n    <tr>\n      <th>594</th>\n      <td>68STSE13</td>\n      <td>0</td>\n      <td>50.989498</td>\n      <td>-113.935167</td>\n    </tr>\n    <tr>\n      <th>124</th>\n      <td>144AVNW7</td>\n      <td>0</td>\n      <td>51.183317</td>\n      <td>-114.094587</td>\n    </tr>\n    <tr>\n      <th>284</th>\n      <td>210AVSE2</td>\n      <td>0</td>\n      <td>50.863099</td>\n      <td>-114.070895</td>\n    </tr>\n  </tbody>\n</table>\n<p>1769 rows × 4 columns</p>\n</div>"
     },
     "metadata": {},
     "execution_count": 155
    }
   ],
   "source": [
    "traffic_volume_df = pd.read_csv(\"Traffic_Volumes_for_2018.csv\")\n",
    "\n",
    "# cleaning the traffic volume data\n",
    "traffic_volume_df['multilinestring'] = traffic_volume_df['multilinestring'].str.replace(r'[MULTILINESTRING]','').str.replace(r'\\(','').str.replace(r'\\)','').str.replace(r'\\)','').str.replace(\"−\", \"-\").str.strip()\n",
    "traffic_volume_df.dropna(subset = [\"VOLUME\"], inplace=True)\n",
    "\n",
    "# taking the multilinestring coordinates and creating a latitude and longitude column in the data frame. We will assume that the first point is an accurate representation of the location for the line segments\n",
    "latitude = []\n",
    "longitude = []\n",
    "for temp in traffic_volume_df.multilinestring:\n",
    "    temp = temp.split(',')\n",
    "    for i in temp:\n",
    "        i = i.split()\n",
    "        latitude.append(float(i[1]))\n",
    "        longitude.append(float(i[0]))\n",
    "        break\n",
    "    \n",
    "traffic_volume_df['latitude'] = latitude\n",
    "traffic_volume_df['longitude'] = longitude\n",
    "traffic_volume_df = traffic_volume_df.drop(['YEAR','Shape_Leng','multilinestring'], axis=1)\n",
    "traffic_volume_df = traffic_volume_df.sort_values('VOLUME',ascending=False)\n",
    "traffic_volume_df"
   ]
  },
  {
   "cell_type": "code",
   "execution_count": 156,
   "metadata": {},
   "outputs": [
    {
     "output_type": "execute_result",
     "data": {
      "text/plain": "                           Camera Location   longitude   latitude\n0         Stoney Trail / Deerfoot Trail SE -113.976606  50.900726\n1             Memorial Drive / 52 Street E -113.955818  51.053253\n2    Crowchild Trail / Shaganappi Trail NW -114.149379  51.098849\n3        Crowchild Trail / Sarcee Trail NW -114.178204  51.111255\n4          Airport Trail / Barlow Trail NE -114.001451  51.139352\n..                                     ...         ...        ...\n121     Memorial Drive / Edmonton Trail NE -114.050136  51.050802\n122       Glenmore Trail / Barlow Trail SE -113.981495  50.979446\n123       Glenmore Trail / Stoney Trail SE -113.929263  50.979635\n124                 5 Avenue / 5 Street SW -114.073644  51.048677\n125                 9 Avenue / 3 Street SE -114.055664  51.044390\n\n[126 rows x 3 columns]",
      "text/html": "<div>\n<style scoped>\n    .dataframe tbody tr th:only-of-type {\n        vertical-align: middle;\n    }\n\n    .dataframe tbody tr th {\n        vertical-align: top;\n    }\n\n    .dataframe thead th {\n        text-align: right;\n    }\n</style>\n<table border=\"1\" class=\"dataframe\">\n  <thead>\n    <tr style=\"text-align: right;\">\n      <th></th>\n      <th>Camera Location</th>\n      <th>longitude</th>\n      <th>latitude</th>\n    </tr>\n  </thead>\n  <tbody>\n    <tr>\n      <th>0</th>\n      <td>Stoney Trail / Deerfoot Trail SE</td>\n      <td>-113.976606</td>\n      <td>50.900726</td>\n    </tr>\n    <tr>\n      <th>1</th>\n      <td>Memorial Drive / 52 Street E</td>\n      <td>-113.955818</td>\n      <td>51.053253</td>\n    </tr>\n    <tr>\n      <th>2</th>\n      <td>Crowchild Trail / Shaganappi Trail NW</td>\n      <td>-114.149379</td>\n      <td>51.098849</td>\n    </tr>\n    <tr>\n      <th>3</th>\n      <td>Crowchild Trail / Sarcee Trail NW</td>\n      <td>-114.178204</td>\n      <td>51.111255</td>\n    </tr>\n    <tr>\n      <th>4</th>\n      <td>Airport Trail / Barlow Trail NE</td>\n      <td>-114.001451</td>\n      <td>51.139352</td>\n    </tr>\n    <tr>\n      <th>...</th>\n      <td>...</td>\n      <td>...</td>\n      <td>...</td>\n    </tr>\n    <tr>\n      <th>121</th>\n      <td>Memorial Drive / Edmonton Trail NE</td>\n      <td>-114.050136</td>\n      <td>51.050802</td>\n    </tr>\n    <tr>\n      <th>122</th>\n      <td>Glenmore Trail / Barlow Trail SE</td>\n      <td>-113.981495</td>\n      <td>50.979446</td>\n    </tr>\n    <tr>\n      <th>123</th>\n      <td>Glenmore Trail / Stoney Trail SE</td>\n      <td>-113.929263</td>\n      <td>50.979635</td>\n    </tr>\n    <tr>\n      <th>124</th>\n      <td>5 Avenue / 5 Street SW</td>\n      <td>-114.073644</td>\n      <td>51.048677</td>\n    </tr>\n    <tr>\n      <th>125</th>\n      <td>9 Avenue / 3 Street SE</td>\n      <td>-114.055664</td>\n      <td>51.044390</td>\n    </tr>\n  </tbody>\n</table>\n<p>126 rows × 3 columns</p>\n</div>"
     },
     "metadata": {},
     "execution_count": 156
    }
   ],
   "source": [
    "traffic_cameras_df = pd.read_csv(\"Traffic_Camera_Locations.csv\")\n",
    "\n",
    "# this data already looks clean to me, only need to remove some rows for ease of viewing\n",
    "traffic_cameras_df = traffic_cameras_df.drop(['Quadrant','Camera URL'], axis=1)\n",
    "traffic_cameras_df"
   ]
  },
  {
   "cell_type": "code",
   "execution_count": 157,
   "metadata": {},
   "outputs": [
    {
     "output_type": "execute_result",
     "data": {
      "text/plain": "                    FIRSTROAD                         SECONDROAD QUADRANT  \\\n0             KENSINGTON ROAD                          12 STREET       NW   \n1     COUNTRY HILLS BOULEVARD           COVENTRY HILLS BOULEVARD       NE   \n2                  McCALL WAY                       PEGASUS ROAD       NE   \n3                   72 AVENUE                      CENTRE STREET        N   \n4                    9 AVENUE                15 STREET/17 AVENUE       SE   \n...                       ...                                ...      ...   \n1533  COUNTRY HILLS BOULEVARD  ROCKY RIDGE RECREATIONAL FACILITY       NW   \n1534          BRIDLERIDGE WAY                    BRIDLEWOOD ROAD       SW   \n1535                10 STREET                          23 AVENUE       NW   \n1536                 5 AVENUE                           1 STREET       SE   \n1537     SUN VALLEY BOULEVARD                       SUNPARK GATE       SE   \n\n       latitude   longitude  \n0     51.052514 -114.091740  \n1     51.154211 -114.052475  \n2     51.094081 -114.011478  \n3     51.117992 -114.069588  \n4     51.037739 -114.025122  \n...         ...         ...  \n1533  51.154147 -114.228956  \n1534  50.902069 -114.109199  \n1535  51.073213 -114.084589  \n1536  51.048341 -114.060387  \n1537  50.906049 -114.058065  \n\n[1538 rows x 5 columns]",
      "text/html": "<div>\n<style scoped>\n    .dataframe tbody tr th:only-of-type {\n        vertical-align: middle;\n    }\n\n    .dataframe tbody tr th {\n        vertical-align: top;\n    }\n\n    .dataframe thead th {\n        text-align: right;\n    }\n</style>\n<table border=\"1\" class=\"dataframe\">\n  <thead>\n    <tr style=\"text-align: right;\">\n      <th></th>\n      <th>FIRSTROAD</th>\n      <th>SECONDROAD</th>\n      <th>QUADRANT</th>\n      <th>latitude</th>\n      <th>longitude</th>\n    </tr>\n  </thead>\n  <tbody>\n    <tr>\n      <th>0</th>\n      <td>KENSINGTON ROAD</td>\n      <td>12 STREET</td>\n      <td>NW</td>\n      <td>51.052514</td>\n      <td>-114.091740</td>\n    </tr>\n    <tr>\n      <th>1</th>\n      <td>COUNTRY HILLS BOULEVARD</td>\n      <td>COVENTRY HILLS BOULEVARD</td>\n      <td>NE</td>\n      <td>51.154211</td>\n      <td>-114.052475</td>\n    </tr>\n    <tr>\n      <th>2</th>\n      <td>McCALL WAY</td>\n      <td>PEGASUS ROAD</td>\n      <td>NE</td>\n      <td>51.094081</td>\n      <td>-114.011478</td>\n    </tr>\n    <tr>\n      <th>3</th>\n      <td>72 AVENUE</td>\n      <td>CENTRE STREET</td>\n      <td>N</td>\n      <td>51.117992</td>\n      <td>-114.069588</td>\n    </tr>\n    <tr>\n      <th>4</th>\n      <td>9 AVENUE</td>\n      <td>15 STREET/17 AVENUE</td>\n      <td>SE</td>\n      <td>51.037739</td>\n      <td>-114.025122</td>\n    </tr>\n    <tr>\n      <th>...</th>\n      <td>...</td>\n      <td>...</td>\n      <td>...</td>\n      <td>...</td>\n      <td>...</td>\n    </tr>\n    <tr>\n      <th>1533</th>\n      <td>COUNTRY HILLS BOULEVARD</td>\n      <td>ROCKY RIDGE RECREATIONAL FACILITY</td>\n      <td>NW</td>\n      <td>51.154147</td>\n      <td>-114.228956</td>\n    </tr>\n    <tr>\n      <th>1534</th>\n      <td>BRIDLERIDGE WAY</td>\n      <td>BRIDLEWOOD ROAD</td>\n      <td>SW</td>\n      <td>50.902069</td>\n      <td>-114.109199</td>\n    </tr>\n    <tr>\n      <th>1535</th>\n      <td>10 STREET</td>\n      <td>23 AVENUE</td>\n      <td>NW</td>\n      <td>51.073213</td>\n      <td>-114.084589</td>\n    </tr>\n    <tr>\n      <th>1536</th>\n      <td>5 AVENUE</td>\n      <td>1 STREET</td>\n      <td>SE</td>\n      <td>51.048341</td>\n      <td>-114.060387</td>\n    </tr>\n    <tr>\n      <th>1537</th>\n      <td>SUN VALLEY BOULEVARD</td>\n      <td>SUNPARK GATE</td>\n      <td>SE</td>\n      <td>50.906049</td>\n      <td>-114.058065</td>\n    </tr>\n  </tbody>\n</table>\n<p>1538 rows × 5 columns</p>\n</div>"
     },
     "metadata": {},
     "execution_count": 157
    }
   ],
   "source": [
    "traffic_signals_df = pd.read_csv(\"Traffic_Signals.csv\")\n",
    "\n",
    "traffic_signals_df.dropna(axis=1, how='all')    # remove the empty column with all NaN values\n",
    "# need to remove some rows for ease of viewing\n",
    "traffic_signals_df = traffic_signals_df.drop(['INSTDATE','INT_TYPE','PEDBUTTONS','PED_TIMER','Point','Count','ACCESSIBLE PEDESTRIAN SIGNAL'], axis=1)\n",
    "traffic_signals_df"
   ]
  },
  {
   "cell_type": "code",
   "execution_count": 158,
   "metadata": {},
   "outputs": [
    {
     "output_type": "execute_result",
     "data": {
      "text/plain": "                                  SIGN_TXT   latitude   longitude\n0                                      NaN  51.068567 -114.210957\n1                                      NaN  50.911166 -113.935804\n2                  3HR, 0900-1800, SAT, AL  51.042028 -114.054231\n3       3 HR, 0900-1800, M-F, PAY REQD, AR  51.041351 -114.053597\n4                               DELINEATOR  50.911341 -113.935926\n...                                    ...        ...         ...\n207515                                 NaN  50.914135 -114.089567\n207516     RESERVED BIKE LANE BEGINS (ADL)  51.050466 -114.073475\n207517                                 NaN  51.052801 -114.090109\n207518                                 NaN  50.974158 -114.053874\n207519                                 NaN  51.073241 -114.006688\n\n[207520 rows x 3 columns]",
      "text/html": "<div>\n<style scoped>\n    .dataframe tbody tr th:only-of-type {\n        vertical-align: middle;\n    }\n\n    .dataframe tbody tr th {\n        vertical-align: top;\n    }\n\n    .dataframe thead th {\n        text-align: right;\n    }\n</style>\n<table border=\"1\" class=\"dataframe\">\n  <thead>\n    <tr style=\"text-align: right;\">\n      <th></th>\n      <th>SIGN_TXT</th>\n      <th>latitude</th>\n      <th>longitude</th>\n    </tr>\n  </thead>\n  <tbody>\n    <tr>\n      <th>0</th>\n      <td>NaN</td>\n      <td>51.068567</td>\n      <td>-114.210957</td>\n    </tr>\n    <tr>\n      <th>1</th>\n      <td>NaN</td>\n      <td>50.911166</td>\n      <td>-113.935804</td>\n    </tr>\n    <tr>\n      <th>2</th>\n      <td>3HR, 0900-1800, SAT, AL</td>\n      <td>51.042028</td>\n      <td>-114.054231</td>\n    </tr>\n    <tr>\n      <th>3</th>\n      <td>3 HR, 0900-1800, M-F, PAY REQD, AR</td>\n      <td>51.041351</td>\n      <td>-114.053597</td>\n    </tr>\n    <tr>\n      <th>4</th>\n      <td>DELINEATOR</td>\n      <td>50.911341</td>\n      <td>-113.935926</td>\n    </tr>\n    <tr>\n      <th>...</th>\n      <td>...</td>\n      <td>...</td>\n      <td>...</td>\n    </tr>\n    <tr>\n      <th>207515</th>\n      <td>NaN</td>\n      <td>50.914135</td>\n      <td>-114.089567</td>\n    </tr>\n    <tr>\n      <th>207516</th>\n      <td>RESERVED BIKE LANE BEGINS (ADL)</td>\n      <td>51.050466</td>\n      <td>-114.073475</td>\n    </tr>\n    <tr>\n      <th>207517</th>\n      <td>NaN</td>\n      <td>51.052801</td>\n      <td>-114.090109</td>\n    </tr>\n    <tr>\n      <th>207518</th>\n      <td>NaN</td>\n      <td>50.974158</td>\n      <td>-114.053874</td>\n    </tr>\n    <tr>\n      <th>207519</th>\n      <td>NaN</td>\n      <td>51.073241</td>\n      <td>-114.006688</td>\n    </tr>\n  </tbody>\n</table>\n<p>207520 rows × 3 columns</p>\n</div>"
     },
     "metadata": {},
     "execution_count": 158
    }
   ],
   "source": [
    "traffic_signs_df = pd.read_csv(\"Traffic_Signs.csv\")\n",
    "\n",
    "traffic_signs_df.dropna(axis=1, how='all')    # remove the empty columns with all NaN values\n",
    "traffic_signs_df['POINT'] = traffic_signs_df['POINT'].str.replace(r'[POINT]','').str.replace(r'\\(','').str.replace(r'\\)','').str.replace(r'\\)','').str.replace(\"−\", \"-\").str.strip()\n",
    "\n",
    "# taking the POINT coordinates and creating a latitude and longitude column in the data frame. We will assume that the first point is an accurate representation of the location for the line segments\n",
    "latitude = []\n",
    "longitude = []\n",
    "for temp in traffic_signs_df.POINT:\n",
    "    temp = temp.split(',')\n",
    "    for i in temp:\n",
    "        i = i.split()\n",
    "        latitude.append(float(i[1]))\n",
    "        longitude.append(float(i[0]))\n",
    "        break\n",
    "    \n",
    "traffic_signs_df['latitude'] = latitude\n",
    "traffic_signs_df['longitude'] = longitude\n",
    "traffic_signs_df = traffic_signs_df.drop(['BLADE_TYPE','COMMENTS','FACING_CD','FLD_SRC_TXT','INSTDATE','MATERIAL','PL_TY','REUSE','SGN_COUNT_NO','SGN_STA_CD','SUPPORTTYPE','UNITID','TE_SIGNLOCATION_UNITID','POINT','Ward Boundaries','City Quadrants','Calgary Communities','Ward Boundaries 2013-2017','STA_CD','SIZE_CD'],axis=1)\n",
    "traffic_signs_df"
   ]
  },
  {
   "cell_type": "code",
   "execution_count": 159,
   "metadata": {},
   "outputs": [
    {
     "output_type": "execute_result",
     "data": {
      "text/plain": "                                           INCIDENT INFO  \\\n875           Southbound Deerfoot Trail and 16 Avenue NE   \n2169                     36 Avenue and Burnsland Road SE   \n3262   Falconridge Boulevard at Castleridge Boulevard NE   \n4559          Southbound Deerfoot Trail and 16 Avenue NE   \n4695           Spruce Meadows Trail and Macleod Trail SE   \n...                                                  ...   \n17407  Westbound 16 Avenue approaching Deerfoot Trail NE   \n17408   Southbound Crowchild Trail at Kensington Road NW   \n17409                          52 Street and 5 Avenue SE   \n17410            Eastbound Memorial Drive at 8 Street NW   \n17411                           5 Avenue and 6 Street SW   \n\n                                          DESCRIPTION QUADRANT   Longitude  \\\n875                           Multi-vehicle incident.       NE -114.028193   \n2169                            Two vehicle incident.       SE -114.059276   \n3262                            Two vehicle incident.       NE -113.958764   \n4559                          Multi-vehicle incident.       NE -114.028183   \n4695                            Two vehicle incident.       SE -114.061310   \n...                                               ...      ...         ...   \n17407   Two vehicle incident. Blocking the left lane.       NE -114.020057   \n17408  Two vehicle incident.  Blocking multiple lanes       NW -114.118501   \n17409                         Multi-vehicle incident.       SE -113.956571   \n17410                           Two vehicle incident.       NW -114.079493   \n17411                           Two vehicle incident.       SW -114.076108   \n\n        Latitude  \n875    51.065699  \n2169   51.021205  \n3262   51.099956  \n4559   51.065739  \n4695   50.892629  \n...          ...  \n17407  51.067053  \n17408  51.052492  \n17409  51.049133  \n17410  51.054765  \n17411  51.048764  \n\n[6567 rows x 5 columns]",
      "text/html": "<div>\n<style scoped>\n    .dataframe tbody tr th:only-of-type {\n        vertical-align: middle;\n    }\n\n    .dataframe tbody tr th {\n        vertical-align: top;\n    }\n\n    .dataframe thead th {\n        text-align: right;\n    }\n</style>\n<table border=\"1\" class=\"dataframe\">\n  <thead>\n    <tr style=\"text-align: right;\">\n      <th></th>\n      <th>INCIDENT INFO</th>\n      <th>DESCRIPTION</th>\n      <th>QUADRANT</th>\n      <th>Longitude</th>\n      <th>Latitude</th>\n    </tr>\n  </thead>\n  <tbody>\n    <tr>\n      <th>875</th>\n      <td>Southbound Deerfoot Trail and 16 Avenue NE</td>\n      <td>Multi-vehicle incident.</td>\n      <td>NE</td>\n      <td>-114.028193</td>\n      <td>51.065699</td>\n    </tr>\n    <tr>\n      <th>2169</th>\n      <td>36 Avenue and Burnsland Road SE</td>\n      <td>Two vehicle incident.</td>\n      <td>SE</td>\n      <td>-114.059276</td>\n      <td>51.021205</td>\n    </tr>\n    <tr>\n      <th>3262</th>\n      <td>Falconridge Boulevard at Castleridge Boulevard NE</td>\n      <td>Two vehicle incident.</td>\n      <td>NE</td>\n      <td>-113.958764</td>\n      <td>51.099956</td>\n    </tr>\n    <tr>\n      <th>4559</th>\n      <td>Southbound Deerfoot Trail and 16 Avenue NE</td>\n      <td>Multi-vehicle incident.</td>\n      <td>NE</td>\n      <td>-114.028183</td>\n      <td>51.065739</td>\n    </tr>\n    <tr>\n      <th>4695</th>\n      <td>Spruce Meadows Trail and Macleod Trail SE</td>\n      <td>Two vehicle incident.</td>\n      <td>SE</td>\n      <td>-114.061310</td>\n      <td>50.892629</td>\n    </tr>\n    <tr>\n      <th>...</th>\n      <td>...</td>\n      <td>...</td>\n      <td>...</td>\n      <td>...</td>\n      <td>...</td>\n    </tr>\n    <tr>\n      <th>17407</th>\n      <td>Westbound 16 Avenue approaching Deerfoot Trail NE</td>\n      <td>Two vehicle incident. Blocking the left lane.</td>\n      <td>NE</td>\n      <td>-114.020057</td>\n      <td>51.067053</td>\n    </tr>\n    <tr>\n      <th>17408</th>\n      <td>Southbound Crowchild Trail at Kensington Road NW</td>\n      <td>Two vehicle incident.  Blocking multiple lanes</td>\n      <td>NW</td>\n      <td>-114.118501</td>\n      <td>51.052492</td>\n    </tr>\n    <tr>\n      <th>17409</th>\n      <td>52 Street and 5 Avenue SE</td>\n      <td>Multi-vehicle incident.</td>\n      <td>SE</td>\n      <td>-113.956571</td>\n      <td>51.049133</td>\n    </tr>\n    <tr>\n      <th>17410</th>\n      <td>Eastbound Memorial Drive at 8 Street NW</td>\n      <td>Two vehicle incident.</td>\n      <td>NW</td>\n      <td>-114.079493</td>\n      <td>51.054765</td>\n    </tr>\n    <tr>\n      <th>17411</th>\n      <td>5 Avenue and 6 Street SW</td>\n      <td>Two vehicle incident.</td>\n      <td>SW</td>\n      <td>-114.076108</td>\n      <td>51.048764</td>\n    </tr>\n  </tbody>\n</table>\n<p>6567 rows × 5 columns</p>\n</div>"
     },
     "metadata": {},
     "execution_count": 159
    }
   ],
   "source": [
    "traffic_accidents_df = pd.read_csv(\"Traffic_Incidents.csv\")\n",
    "\n",
    "traffic_accidents_df.dropna(axis=1, how='all')    # remove the empty columns with all NaN values\n",
    "traffic_accidents_df = traffic_accidents_df[~traffic_accidents_df.START_DT.str.contains(\"/2016 \")]     # remove all non 2018 data\n",
    "traffic_accidents_df = traffic_accidents_df[~traffic_accidents_df.START_DT.str.contains(\"/2017 \")]\n",
    "traffic_accidents_df = traffic_accidents_df[~traffic_accidents_df.START_DT.str.contains(\"/2019 \")]\n",
    "traffic_accidents_df = traffic_accidents_df[~traffic_accidents_df.START_DT.str.contains(\"/2020 \")]\n",
    "traffic_accidents_df = traffic_accidents_df.drop(['MODIFIED_DT','START_DT','location','Count','id'],axis=1)\n",
    "traffic_accidents_df"
   ]
  },
  {
   "cell_type": "code",
   "execution_count": 169,
   "metadata": {},
   "outputs": [
    {
     "output_type": "execute_result",
     "data": {
      "text/plain": "            Max Temp (°C)  Min Temp (°C)  Mean Temp (°C)  Total Precip (mm)  \\\nDate/Time                                                                     \n2018-01-01           -3.6          -32.2           -17.9                0.0   \n2018-01-02            0.8          -11.6            -5.4                0.2   \n2018-01-03            6.4          -10.1            -1.9                0.0   \n2018-01-04            4.0          -12.0            -4.0                0.8   \n2018-01-05            9.6          -12.4            -1.4                0.2   \n...                   ...            ...             ...                ...   \n2018-12-27           -5.8           -9.8            -7.8                0.4   \n2018-12-28            1.7          -13.8            -6.0                0.0   \n2018-12-29            8.7           -4.2             2.3                0.0   \n2018-12-30            3.5          -13.8            -5.1                0.2   \n2018-12-31           -8.2          -15.2           -11.7                0.3   \n\n            Snow on Grnd (cm) Spd of Max Gust (km/h)  \nDate/Time                                             \n2018-01-01               11.0                    <31  \n2018-01-02               10.0                    <31  \n2018-01-03               10.0                    <31  \n2018-01-04               10.0                    <31  \n2018-01-05               10.0                     44  \n...                       ...                    ...  \n2018-12-27                2.0                    NaN  \n2018-12-28                2.0                     46  \n2018-12-29                3.0                     41  \n2018-12-30                2.0                     60  \n2018-12-31                2.0                    NaN  \n\n[365 rows x 6 columns]",
      "text/html": "<div>\n<style scoped>\n    .dataframe tbody tr th:only-of-type {\n        vertical-align: middle;\n    }\n\n    .dataframe tbody tr th {\n        vertical-align: top;\n    }\n\n    .dataframe thead th {\n        text-align: right;\n    }\n</style>\n<table border=\"1\" class=\"dataframe\">\n  <thead>\n    <tr style=\"text-align: right;\">\n      <th></th>\n      <th>Max Temp (°C)</th>\n      <th>Min Temp (°C)</th>\n      <th>Mean Temp (°C)</th>\n      <th>Total Precip (mm)</th>\n      <th>Snow on Grnd (cm)</th>\n      <th>Spd of Max Gust (km/h)</th>\n    </tr>\n    <tr>\n      <th>Date/Time</th>\n      <th></th>\n      <th></th>\n      <th></th>\n      <th></th>\n      <th></th>\n      <th></th>\n    </tr>\n  </thead>\n  <tbody>\n    <tr>\n      <th>2018-01-01</th>\n      <td>-3.6</td>\n      <td>-32.2</td>\n      <td>-17.9</td>\n      <td>0.0</td>\n      <td>11.0</td>\n      <td>&lt;31</td>\n    </tr>\n    <tr>\n      <th>2018-01-02</th>\n      <td>0.8</td>\n      <td>-11.6</td>\n      <td>-5.4</td>\n      <td>0.2</td>\n      <td>10.0</td>\n      <td>&lt;31</td>\n    </tr>\n    <tr>\n      <th>2018-01-03</th>\n      <td>6.4</td>\n      <td>-10.1</td>\n      <td>-1.9</td>\n      <td>0.0</td>\n      <td>10.0</td>\n      <td>&lt;31</td>\n    </tr>\n    <tr>\n      <th>2018-01-04</th>\n      <td>4.0</td>\n      <td>-12.0</td>\n      <td>-4.0</td>\n      <td>0.8</td>\n      <td>10.0</td>\n      <td>&lt;31</td>\n    </tr>\n    <tr>\n      <th>2018-01-05</th>\n      <td>9.6</td>\n      <td>-12.4</td>\n      <td>-1.4</td>\n      <td>0.2</td>\n      <td>10.0</td>\n      <td>44</td>\n    </tr>\n    <tr>\n      <th>...</th>\n      <td>...</td>\n      <td>...</td>\n      <td>...</td>\n      <td>...</td>\n      <td>...</td>\n      <td>...</td>\n    </tr>\n    <tr>\n      <th>2018-12-27</th>\n      <td>-5.8</td>\n      <td>-9.8</td>\n      <td>-7.8</td>\n      <td>0.4</td>\n      <td>2.0</td>\n      <td>NaN</td>\n    </tr>\n    <tr>\n      <th>2018-12-28</th>\n      <td>1.7</td>\n      <td>-13.8</td>\n      <td>-6.0</td>\n      <td>0.0</td>\n      <td>2.0</td>\n      <td>46</td>\n    </tr>\n    <tr>\n      <th>2018-12-29</th>\n      <td>8.7</td>\n      <td>-4.2</td>\n      <td>2.3</td>\n      <td>0.0</td>\n      <td>3.0</td>\n      <td>41</td>\n    </tr>\n    <tr>\n      <th>2018-12-30</th>\n      <td>3.5</td>\n      <td>-13.8</td>\n      <td>-5.1</td>\n      <td>0.2</td>\n      <td>2.0</td>\n      <td>60</td>\n    </tr>\n    <tr>\n      <th>2018-12-31</th>\n      <td>-8.2</td>\n      <td>-15.2</td>\n      <td>-11.7</td>\n      <td>0.3</td>\n      <td>2.0</td>\n      <td>NaN</td>\n    </tr>\n  </tbody>\n</table>\n<p>365 rows × 6 columns</p>\n</div>"
     },
     "metadata": {},
     "execution_count": 169
    }
   ],
   "source": [
    "weather_df = pd.read_csv(\"2018_weather_data.csv\", index_col='Date/Time', parse_dates=True)\n",
    "\n",
    "weather_df.dropna(axis=1, how='all') \n",
    "weather_df = weather_df.drop(['Station Name','Climate ID','Year','Month','Day','Min Temp Flag','Max Temp Flag','Mean Temp Flag','Heat Deg Days Flag','Cool Deg Days Flag','Total Rain Flag','Total Snow Flag','Total Precip Flag','Snow on Grnd Flag','Dir of Max Gust Flag','Spd of Max Gust Flag','Data Quality','Dir of Max Gust (10s deg)','Heat Deg Days (°C)','Cool Deg Days (°C)','Total Rain (mm)','Total Snow (cm)','Longitude (x)','Latitude (y)'],axis=1)\n",
    "weather_df"
   ]
  },
  {
   "cell_type": "code",
   "execution_count": null,
   "metadata": {},
   "outputs": [],
   "source": []
  }
 ]
}